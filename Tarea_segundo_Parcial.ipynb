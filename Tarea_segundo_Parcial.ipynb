{
  "nbformat": 4,
  "nbformat_minor": 0,
  "metadata": {
    "colab": {
      "provenance": [],
      "authorship_tag": "ABX9TyMtGhCRadQZrjHyike0LFuW",
      "include_colab_link": true
    },
    "kernelspec": {
      "name": "python3",
      "display_name": "Python 3"
    },
    "language_info": {
      "name": "python"
    }
  },
  "cells": [
    {
      "cell_type": "markdown",
      "metadata": {
        "id": "view-in-github",
        "colab_type": "text"
      },
      "source": [
        "<a href=\"https://colab.research.google.com/github/Bessy05/primer-proyecto-Python/blob/master/Tarea_segundo_Parcial.ipynb\" target=\"_parent\"><img src=\"https://colab.research.google.com/assets/colab-badge.svg\" alt=\"Open In Colab\"/></a>"
      ]
    },
    {
      "cell_type": "markdown",
      "source": [
        "# <center> TAREA I </center>\n",
        "# <center> 2 Parcial</center>\n",
        "##<center>Bessy Lorena Padilla Matamoros</center>\n",
        "###<center>20171032414</center>"
      ],
      "metadata": {
        "id": "ix29b4eMGIsY"
      }
    },
    {
      "cell_type": "markdown",
      "source": [
        "**1)** Calcular el gradiente y el hessiano de las siguientes funciones:"
      ],
      "metadata": {
        "id": "AK5CDC3nB0Ux"
      }
    },
    {
      "cell_type": "markdown",
      "source": [
        "**a)** $f_1:R^{2}\\rightarrow R$ Definida como:\n",
        "\n",
        "\n",
        "## <center> $f_1(x)=100(x_2-x_1^{2})^{2}+(1-x_1)^{2}$ </center>\n",
        "\n",
        "**Solución:**\n",
        "\n",
        "\n",
        " **Gradiente:**\n",
        "\n",
        " Calculo de sus primeras derivadas parciales:\n",
        "\n",
        "  #### <center>\\begin{equation} \\frac{\\partial f}{\\partial x_1}=-400(x_2-x_1^{2})x_1-2(1-x_1)\n",
        "\\end{equation}</center>\n",
        "\n",
        "\n",
        "\n",
        "####<center>\\begin{equation} \\frac{\\partial f}{\\partial x_2}=200(x_2-x_1^{2})\n",
        "\\end{equation}</center>\n",
        "\n",
        "Por lo tanto su gradiente es:\n",
        "\n",
        " ## <center> \\begin{equation} \\boxed{∇ f_1=-400(x_2-x_1^{2})x_1-2(1-x_1),200(x_2-x_1^{2})} \\end{equation}</center>\n",
        "\n",
        "\n",
        "\n",
        "  **Hessiano:**\n",
        "\n",
        "Calculo de sus segundas derivadas parciales:\n",
        "\n",
        " \\begin{equation} \\frac{\\partial^{2} f} { \\partial x_1\\partial x_1}=-400(x_2-x_1^{2})+800x_1^{2}+2\n",
        "\\end{equation}\n",
        "\n",
        "\n",
        "   #### <center>\\begin{equation} \\frac{\\partial^{2} f} { \\partial x_1\\partial x_2}=-400x_1\n",
        "\\end{equation}</center>\n",
        "\\\\\n",
        "\n",
        "\\begin{equation} \\frac{\\partial^{2} f} { \\partial x_2\\partial x_2}=200\n",
        "\\end{equation}\n",
        "\n",
        "\\\\\n",
        "por teorema sabemos que $\\frac{\\partial^{2} f} { \\partial x_1\\partial x_2}=\\frac{\\partial^{2} f}{ \\partial x_2\\partial x_1}$\n",
        " Por lo que solo lo calculamos una vez.\n",
        " \\\\\n",
        "  \\\\\n",
        "Por lo tanto su Hessiano es:\n",
        "\n",
        " ## <center>\\begin{equation}\n",
        "\\boxed{\n",
        " ∇^{2}f_1=\\begin{bmatrix}\n",
        "-400(x_2-x_1^{2})+800x_1^{2}+2  &  -400x_1\\\\\n",
        " -400x_1 &  200\n",
        "\\end{bmatrix}\n",
        "}\n",
        "\\end{equation}</center>\n",
        "  ------------------------------------------------------------------"
      ],
      "metadata": {
        "id": "7F7Qi3VNCoHI"
      }
    },
    {
      "cell_type": "markdown",
      "source": [
        "**a)** $f_2:R^{4}\\rightarrow R$ Definida como:\n",
        "## <center> $f_2=100(x_1^{2}-x_2)^{2}+(x_1-1)^{2}+(x_3-1)^{2}+90(x_3^{2}-x_4)^{2}+10.1[(x_2-1)^{2}+(x_4-1)^{2}]+19.8(x_2-1)_(x_4-1)$ </center>\n",
        "\\\\\n",
        "**Solución:**\n",
        "\n",
        " **Gradiente:**\n",
        "\n",
        " Calculo de sus primeras derivadas parciales:\n",
        "\n",
        "  #### <center>\\begin{equation} \\frac{\\partial f}{\\partial x_1}=400x_1^{3}+2x_1-400x_1x_2-2\n",
        "\\end{equation}</center>\n",
        "\n",
        "\n",
        "\n",
        "####<center>\\begin{equation} \\frac{\\partial f}{\\partial x_2}=220.2x_2+19.8x_4-200x_1^{2}-40\n",
        "\\end{equation}</center>\n",
        "\n",
        "####<center>\\begin{equation} \\frac{\\partial f}{\\partial x_3}=360x_3^{3}+2x_3-360x_3x_4-2\n",
        "\\end{equation}</center>\n",
        "\n",
        "####<center>\\begin{equation} \\frac{\\partial f}{\\partial x_4}=19.8x_2+200.2x_4-180x_3^{2}-40\n",
        "\\end{equation}</center>\n",
        "\n",
        "Por lo tanto su gradiente es:\n",
        "\n",
        " ## <center> \\begin{equation} \\boxed{∇ f_2=} \\end{equation}</center>\n",
        "\n",
        "\n",
        " **Hessiano:**\n",
        "\n",
        "Calculo de sus segundas derivadas parciales:\n",
        "\n",
        " \\begin{equation} \\frac{\\partial^{2} f} { \\partial x_1\\partial x_1}=\n",
        "\\end{equation}\n",
        "\n",
        "\n",
        "   #### <center>\\begin{equation} \\frac{\\partial^{2} f} { \\partial x_1\\partial x_2}=\n",
        "\\end{equation}</center>\n",
        "\\\\\n",
        "\n",
        "\\begin{equation} \\frac{\\partial^{2} f} { \\partial x_1\\partial x_3}=\n",
        "\\end{equation}\n",
        "\n",
        "\\\\\n",
        "\\begin{equation} \\frac{\\partial^{2} f} { \\partial x_1\\partial x_4}=\n",
        "\\end{equation}\n",
        "\n",
        "\\\\\n",
        "\\begin{equation} \\frac{\\partial^{2} f} { \\partial x_2\\partial x_1}=\n",
        "\\end{equation}\n",
        "\n",
        "\\\\\n",
        "\\begin{equation} \\frac{\\partial^{2} f} { \\partial x_2\\partial x_2}=\n",
        "\\end{equation}\n",
        "\n",
        "\\\\\n",
        "\\begin{equation} \\frac{\\partial^{2} f} { \\partial x_2\\partial x_3}=\n",
        "\\end{equation}\n",
        "\n",
        "\\\\\n",
        "\\begin{equation} \\frac{\\partial^{2} f} { \\partial x_2\\partial x_4}=\n",
        "\\end{equation}\n",
        "\n",
        "\\\\\n",
        "\\begin{equation} \\frac{\\partial^{2} f} { \\partial x_3\\partial x_1}=\n",
        "\\end{equation}\n",
        "\n",
        "\\\\\n",
        "\\begin{equation} \\frac{\\partial^{2} f} { \\partial x_3\\partial x_2}=\n",
        "\\end{equation}\n",
        "\n",
        "\\\\\n",
        "\\begin{equation} \\frac{\\partial^{2} f} { \\partial x_3\\partial x_3}=\n",
        "\\end{equation}\n",
        "\n",
        "\\\\\n",
        "\\begin{equation} \\frac{\\partial^{2} f} { \\partial x_3\\partial x_4}=\n",
        "\\end{equation}\n",
        "\n",
        "\\\\\n",
        "\\begin{equation} \\frac{\\partial^{2} f} { \\partial x_4\\partial x_1}=\n",
        "\\end{equation}\n",
        "\n",
        "\\\\\n",
        "\\begin{equation} \\frac{\\partial^{2} f} { \\partial x_4\\partial x_2}=\n",
        "\\end{equation}\n",
        "\n",
        "\\\\\n",
        "\\begin{equation} \\frac{\\partial^{2} f} { \\partial x_4\\partial x_3}=\n",
        "\\end{equation}\n",
        "\n",
        "\\\\\n",
        "\\begin{equation} \\frac{\\partial^{2} f} { \\partial x_4\\partial x_4}=\n",
        "\\end{equation}\n",
        "\n",
        "Por lo tanto su Hessiano es:\n",
        "\n",
        " ## <center>\\begin{equation}\n",
        "\\boxed{\n",
        "∇^{2}f_2=\n",
        "\\begin{bmatrix}\n",
        "a  & b & c & d\\\\\n",
        "a  & b & c & d\\\\\n",
        "a  & b & c & d\\\\\n",
        "\\end{bmatrix}\n",
        "}\n",
        "\\end{equation}</center>\n",
        "\n",
        "\n",
        " ------------------------------------------------------------------\n"
      ],
      "metadata": {
        "id": "nITT_DD5EO_p"
      }
    },
    {
      "cell_type": "markdown",
      "source": [
        "**c)** $f_3:R^{n}\\rightarrow R$, con $n=100$ Definida como:\n",
        "\n",
        "\n",
        "\n",
        "## <center>$f_3(x)=\\displaystyle\\sum_{i=1}^{n-1}[100(x_{i+1}-x_{i}^{2})^{2}+(1-x_i)^{2}] $</center>\n",
        "\n",
        "**Solución:**\n",
        "\n",
        " -----------------------------------------------------------------------"
      ],
      "metadata": {
        "id": "SHwOgkt1GabC"
      }
    },
    {
      "cell_type": "markdown",
      "source": [
        "**2.**Programar, en el lenguaje de programación Python (utilizando cuaderno), las\n",
        "funciones $f_1$ , $f_2$ y $f_3$ del inciso anterior. Para cada función debe programar su\n",
        "respectivo gradiente y hessiano. Debe crear un módulo para cada función ($f_1$ , $f_2$\n",
        "y $f_3$), que incluya el código de la función con su respectivo gradiente y hessiano"
      ],
      "metadata": {
        "id": "gAoHYgfDINsk"
      }
    },
    {
      "cell_type": "code",
      "source": [
        "import numpy as np\n",
        "import math"
      ],
      "metadata": {
        "id": "AFu7lWV3V4Bc"
      },
      "execution_count": 34,
      "outputs": []
    },
    {
      "cell_type": "markdown",
      "source": [
        "**Definición de la Función 1:**"
      ],
      "metadata": {
        "id": "3fmHmjttPtfN"
      }
    },
    {
      "cell_type": "code",
      "source": [
        "def f1(x):\n",
        "    x1 = x[0]\n",
        "    x2 = x[1]\n",
        "    term1 = 100 * (x2 - x1**2)**2\n",
        "    term2 = (1 - x1)**2\n",
        "    return term1 + term2"
      ],
      "metadata": {
        "id": "UBEmwafkKNMt"
      },
      "execution_count": null,
      "outputs": []
    },
    {
      "cell_type": "markdown",
      "source": [
        "**Calculo del gradiente de la función 1:**"
      ],
      "metadata": {
        "id": "tpN02fgMP0X7"
      }
    },
    {
      "cell_type": "code",
      "source": [
        "def gradiente_f1(x):\n",
        "    gradiente = [0, 0]\n",
        "    gradiente[0] = 2 * (200 * x[0]**3 - 200 * x[0] * x[1] + x[0] - 1)\n",
        "    gradiente[1] = 200 * (x[1] - x[0]**2)\n",
        "    return gradiente\n"
      ],
      "metadata": {
        "id": "q7V-rJZ4KMwd"
      },
      "execution_count": null,
      "outputs": []
    },
    {
      "cell_type": "markdown",
      "source": [
        "**Calculo del Hessiano de la función 1:**"
      ],
      "metadata": {
        "id": "oVk5EhBxP82z"
      }
    },
    {
      "cell_type": "code",
      "source": [
        "def hessiano_f1(x):\n",
        "    hessiano = [[0, 0], [0, 0]]\n",
        "    hessiano[0][0] = 1200 * x[0]**2 - 400 * x[1] + 2\n",
        "    hessiano[0][1] = -400 * x[0]\n",
        "    hessiano[1][0] = -400 * x[0]\n",
        "    hessiano[1][1] = 200\n",
        "    return hessiano"
      ],
      "metadata": {
        "id": "Bh7bjcqmKMTF"
      },
      "execution_count": null,
      "outputs": []
    },
    {
      "cell_type": "markdown",
      "source": [
        "------------------------------------------------------------------------\n",
        "**Definición de la Función 2:**"
      ],
      "metadata": {
        "id": "M-3YFLMlQGGy"
      }
    },
    {
      "cell_type": "code",
      "source": [
        "def f2(x):\n",
        "    x1 = x[0]\n",
        "    x2 = x[1]\n",
        "    x3 = x[2]\n",
        "    x4 = x[3]\n",
        "\n",
        "    term1 = 100 * (x1**2 - x2)**2\n",
        "    term2 = (x1 - 1)**2 + (x3 - 1)**2\n",
        "    term3 = 90 * (x3**2 - x4)**2\n",
        "    term4 = 10.1 * ((x2 - 1)**2 + (x4 - 1)**2)\n",
        "    term5 = 19.8 * (x2 - 1) * (x4 - 1)\n",
        "\n",
        "    return term1 + term2 + term3 + term4 + term5\n"
      ],
      "metadata": {
        "id": "03-k9yUgQR5u"
      },
      "execution_count": null,
      "outputs": []
    },
    {
      "cell_type": "markdown",
      "source": [
        "**Calculo del gradiente de la función 2:**"
      ],
      "metadata": {
        "id": "Vp0TmPPTQSkp"
      }
    },
    {
      "cell_type": "code",
      "source": [
        "def gradiente_f2(x):\n",
        "    gradiente = [0, 0, 0, 0]\n",
        "    gradiente[0] = 400 * x[0] * (x[0]**2 - x[1]) + 2 * (x[0] - 1)\n",
        "    gradiente[1] = -200 * (x[0]**2 - x[1]) + 2 * 10.1 * (x[1] - 1) + 19.8 * (x[3] - 1)\n",
        "    gradiente[2] = 2 * (x[2] - 1) + 360 * x[2] * (x[2]**2 - x[3])\n",
        "    gradiente[3] = -180 * (x[2]**2 - x[3]) + 2 * 90 * (x[3] - x[2]**2) + 19.8 * (x[1] - 1)\n",
        "    return gradiente\n"
      ],
      "metadata": {
        "id": "V2CliKH0QZxK"
      },
      "execution_count": null,
      "outputs": []
    },
    {
      "cell_type": "markdown",
      "source": [
        "**Calculo del Hessiano de la función 2:**"
      ],
      "metadata": {
        "id": "mNeKlcJ-QayB"
      }
    },
    {
      "cell_type": "code",
      "source": [
        "def hessiano_f2(x):\n",
        "    hessiano = [[0, 0, 0, 0], [0, 0, 0, 0], [0, 0, 0, 0], [0, 0, 0, 0]]\n",
        "\n",
        "    hessiano[0][0] = 1200 * x[0]**2 - 400 * x[1] + 2\n",
        "    hessiano[0][1] = -400 * x[0]\n",
        "    hessiano[1][0] = -400 * x[0]\n",
        "    hessiano[1][1] = 200 + 20.2\n",
        "\n",
        "    hessiano[2][2] = 2 + 720 * x[2]**2 - 360 * x[3]\n",
        "    hessiano[2][3] = -360 * x[2]\n",
        "    hessiano[3][2] = -360 * x[2]\n",
        "    hessiano[3][3] = 180 + 180 * (x[3] - x[2]**2) + 19.8\n",
        "\n",
        "    return hessiano\n"
      ],
      "metadata": {
        "id": "ZABHLgI5Qfyx"
      },
      "execution_count": null,
      "outputs": []
    },
    {
      "cell_type": "markdown",
      "source": [
        "************************************************************************\n",
        "**Definición de la Función 3:**"
      ],
      "metadata": {
        "id": "-mPMLvS6QptZ"
      }
    },
    {
      "cell_type": "code",
      "source": [
        "def f3(x):\n",
        "    n = len(x)\n",
        "    sum_term = 0\n",
        "\n",
        "    for i in range(n-1):\n",
        "        term1 = 100 * (x[i+1] - x[i]**2)**2\n",
        "        term2 = (1 - x[i])**2\n",
        "        sum_term += term1 + term2\n",
        "\n",
        "    return sum_term\n"
      ],
      "metadata": {
        "id": "c2m5cZjLQrsw"
      },
      "execution_count": null,
      "outputs": []
    },
    {
      "cell_type": "markdown",
      "source": [
        "**Calculo del gradiente de la función 3:**"
      ],
      "metadata": {
        "id": "0JalukzHQwiA"
      }
    },
    {
      "cell_type": "code",
      "source": [
        "def gradiente_f3(x):\n",
        "    n = len(x)\n",
        "    gradiente = np.zeros(n)\n",
        "\n",
        "    for i in range(n-1):\n",
        "        term1 = 400 * x[i]**3 - 400 * x[i] * x[i+1] + 2 * x[i] - 2\n",
        "        term2 = 200 * (x[i+1] - x[i]**2)\n",
        "        gradiente[i] = term1 + term2\n",
        "\n",
        "    gradiente[n-1] = 200 * (x[n-1] - x[n-2]**2)\n",
        "\n",
        "    return gradiente\n"
      ],
      "metadata": {
        "id": "10Ss9dR_QysA"
      },
      "execution_count": null,
      "outputs": []
    },
    {
      "cell_type": "markdown",
      "source": [
        "**Calculo del Hessiano de la función 3:**"
      ],
      "metadata": {
        "id": "G4y0VhDWQzWq"
      }
    },
    {
      "cell_type": "code",
      "source": [
        "def hessiano_f3(x):\n",
        "    n = len(x)\n",
        "    hessiano = np.zeros((n, n))\n",
        "\n",
        "    for i in range(n-1):\n",
        "        hessiano[i, i] = 1200 * x[i]**2 - 400 * x[i+1] + 2\n",
        "        hessiano[i, i+1] = -400 * x[i]\n",
        "        hessiano[i+1, i] = -400 * x[i]\n",
        "\n",
        "    hessiano[n-1, n-1] = 200\n",
        "\n",
        "    return hessiano\n"
      ],
      "metadata": {
        "id": "ih_8UBHXQ4Cw"
      },
      "execution_count": 42,
      "outputs": []
    },
    {
      "cell_type": "markdown",
      "source": [
        "------------------------------------------------------------------------\n",
        "**3)** Evaluar las funciones programadas en el inciso anterior (función $f$ , gradiente $∇ f$\n",
        "y hessiano $∇^{2}f$) en los respectivos puntos:\n",
        "\n",
        "(a) Para la función $f_1(x)$, el punto $(−1.2, 1)$.\n",
        "\n",
        "(b) Para la función $f_2(x)$, el punto $[−3, −1, −3, −1]^{T}$.\n",
        "\n",
        "(c) Para la función $f_3(x)$, en el punto $[−1.2, 1, 1, ..., 1, −1, −1.2, 1]^{T}$.\n",
        "\n",
        "\n",
        "**Solución:**"
      ],
      "metadata": {
        "id": "IGF8hdkNI1u6"
      }
    },
    {
      "cell_type": "markdown",
      "source": [
        "**Función $f_1$ evaluada en $(-1.2,1)$**"
      ],
      "metadata": {
        "id": "BPg1tkd_Q69A"
      }
    },
    {
      "cell_type": "code",
      "source": [
        "x = [-1.2, 3]\n",
        "resultado1 = f1(x)\n",
        "print(resultado1)"
      ],
      "metadata": {
        "colab": {
          "base_uri": "https://localhost:8080/"
        },
        "id": "7SnfxLUrKQJ1",
        "outputId": "2793a596-2344-4f95-dca6-d14c23531ef6"
      },
      "execution_count": 38,
      "outputs": [
        {
          "output_type": "stream",
          "name": "stdout",
          "text": [
            "248.20000000000002\n"
          ]
        }
      ]
    },
    {
      "cell_type": "markdown",
      "source": [
        "**Gradiente $f_1$ evaluada en $(-1.2,1)$**"
      ],
      "metadata": {
        "id": "zrVo4kV-RNg2"
      }
    },
    {
      "cell_type": "code",
      "source": [
        "x = [-1.2, 3]\n",
        "gradient1= gradiente_f1(x)\n",
        "print(gradient1)"
      ],
      "metadata": {
        "id": "0FKETMzgKP1l",
        "colab": {
          "base_uri": "https://localhost:8080/"
        },
        "outputId": "609816ec-7655-4cf3-c1ad-91238a44fa80"
      },
      "execution_count": 30,
      "outputs": [
        {
          "output_type": "stream",
          "name": "stdout",
          "text": [
            "[744.4000000000001, 312.0]\n"
          ]
        }
      ]
    },
    {
      "cell_type": "markdown",
      "source": [
        "**Hessiano $f_1$ evaluada en $(-1.2,1)$**"
      ],
      "metadata": {
        "id": "bQ2QpVW3RSqu"
      }
    },
    {
      "cell_type": "code",
      "source": [
        "x = [-1.2, 3]\n",
        "hessian1= hessiano_f1\n",
        "print(hessian1)"
      ],
      "metadata": {
        "id": "o-9DQu6OKPiF",
        "colab": {
          "base_uri": "https://localhost:8080/"
        },
        "outputId": "708f2a8e-7f11-4868-8e84-5d46a8e4baed"
      },
      "execution_count": 31,
      "outputs": [
        {
          "output_type": "stream",
          "name": "stdout",
          "text": [
            "248.20000000000002\n"
          ]
        }
      ]
    },
    {
      "cell_type": "markdown",
      "source": [
        "------------------------------------------------------------------------\n",
        "**Función $f_2$ evaluada en $[−3, −1, −3, −1]^{T}$**"
      ],
      "metadata": {
        "id": "jk-OMlHuReZp"
      }
    },
    {
      "cell_type": "code",
      "source": [
        "x = [-3, -1, -3, -1]\n",
        "resultado2 = f2(x)\n",
        "print(resultado2)\n"
      ],
      "metadata": {
        "colab": {
          "base_uri": "https://localhost:8080/"
        },
        "id": "Vic96znXRt9d",
        "outputId": "51d44209-c9d1-4bf5-be8a-ce27aae2a6d1"
      },
      "execution_count": 39,
      "outputs": [
        {
          "output_type": "stream",
          "name": "stdout",
          "text": [
            "19192.0\n"
          ]
        }
      ]
    },
    {
      "cell_type": "markdown",
      "source": [
        "**Gradiente $f_2$ evaluada en $[−3, −1, −3, −1]^{T}$**"
      ],
      "metadata": {
        "id": "5tkacQIdRv8A"
      }
    },
    {
      "cell_type": "code",
      "source": [
        "x = [-3, -1, -3, -1]\n",
        "gradient2 = gradiente_f2(x)\n",
        "print(gradient2)"
      ],
      "metadata": {
        "id": "Xj1xELjUR3Pc",
        "colab": {
          "base_uri": "https://localhost:8080/"
        },
        "outputId": "6caf6627-cb35-4445-f432-5fb2c4ac4dbd"
      },
      "execution_count": 29,
      "outputs": [
        {
          "output_type": "stream",
          "name": "stdout",
          "text": [
            "[-12008, -2080.0, -10808, -3639.6]\n"
          ]
        }
      ]
    },
    {
      "cell_type": "markdown",
      "source": [
        "**Hessiano $f_2$ evaluada en $[−3, −1, −3, −1]^{T}$**"
      ],
      "metadata": {
        "id": "hP8AsrVbR4R8"
      }
    },
    {
      "cell_type": "code",
      "source": [
        "x = [-3, -1, -3, -1]\n",
        "hessian2 = hessiano_f2(x)\n",
        "print(hessian2)"
      ],
      "metadata": {
        "id": "_l_TYTBFR9Qs",
        "colab": {
          "base_uri": "https://localhost:8080/"
        },
        "outputId": "d26e2171-f041-432b-aa92-360917dd54c1"
      },
      "execution_count": 32,
      "outputs": [
        {
          "output_type": "stream",
          "name": "stdout",
          "text": [
            "[[11202, 1200, 0, 0], [1200, 220.2, 0, 0], [0, 0, 6842, 1080], [0, 0, 1080, -1600.2]]\n"
          ]
        }
      ]
    },
    {
      "cell_type": "markdown",
      "source": [
        "----------------------------------------------------------------------\n",
        "**Función $f_3$ evaluada en $[−1.2, 1, 1, ..., 1, −1, −1.2, 1]^{T}$**"
      ],
      "metadata": {
        "id": "7HwPcDYtSHjX"
      }
    },
    {
      "cell_type": "code",
      "source": [
        "x = [-1.2, 1.1,1.2,1.3,1.4,1.5,1.6,1.7,1.8,1.9,-1, -1.2, 1]\n",
        "resultado3 = f3(x)\n",
        "print(resultado2)"
      ],
      "metadata": {
        "id": "Ah8ui6skSSwH",
        "colab": {
          "base_uri": "https://localhost:8080/"
        },
        "outputId": "de535a9a-6924-43c9-e7a5-ab8a78b481a1"
      },
      "execution_count": 47,
      "outputs": [
        {
          "output_type": "stream",
          "name": "stdout",
          "text": [
            "19192.0\n"
          ]
        }
      ]
    },
    {
      "cell_type": "markdown",
      "source": [
        "**Gradiente $f_3$ evaluada en $[−1.2, 1, 1, ..., 1, −1, −1.2, 1]^{T}$**"
      ],
      "metadata": {
        "id": "XaqwOtJCSTLz"
      }
    },
    {
      "cell_type": "code",
      "source": [
        "x = [-1.2, 1.1,1.2,1.3,1.4,1.5,1.6,1.7,1.8,1.9,-1, -1.2, 1]\n",
        "gradient3 = gradiente_f3(x)\n",
        "print(gradient3)"
      ],
      "metadata": {
        "id": "d1N0d2ouSXxU",
        "colab": {
          "base_uri": "https://localhost:8080/"
        },
        "outputId": "86f6b614-ef33-4c43-8c3a-ef88efafa1d1"
      },
      "execution_count": 49,
      "outputs": [
        {
          "output_type": "stream",
          "name": "stdout",
          "text": [
            "[ -235.6     2.6    39.6    93.4   166.4   261.    379.6   524.6   698.4\n",
            "  2583.4 -1324.   -303.6   -88. ]\n"
          ]
        }
      ]
    },
    {
      "cell_type": "markdown",
      "source": [
        "**Hessiano $f_3$ evaluada en $[−1.2, 1, 1, ..., 1, −1, −1.2, 1]^{T}$**"
      ],
      "metadata": {
        "id": "9nt6BiN0SYUM"
      }
    },
    {
      "cell_type": "code",
      "source": [
        "x = [-1.2, 1.1,1.2,1.3,1.4,1.5,1.6,1.7,1.8,1.9,-1, -1.2, 1]\n",
        "hessian3 = hessiano_f3(x)\n",
        "print(hessian3)"
      ],
      "metadata": {
        "id": "OVtcdBzPSdJj",
        "colab": {
          "base_uri": "https://localhost:8080/"
        },
        "outputId": "2282551e-b1da-4180-9a22-c6f74babd1fb"
      },
      "execution_count": 48,
      "outputs": [
        {
          "output_type": "stream",
          "name": "stdout",
          "text": [
            "[[1290.  480.    0.    0.    0.    0.    0.    0.    0.    0.    0.    0.\n",
            "     0.]\n",
            " [ 480.  974. -440.    0.    0.    0.    0.    0.    0.    0.    0.    0.\n",
            "     0.]\n",
            " [   0. -440. 1210. -480.    0.    0.    0.    0.    0.    0.    0.    0.\n",
            "     0.]\n",
            " [   0.    0. -480. 1470. -520.    0.    0.    0.    0.    0.    0.    0.\n",
            "     0.]\n",
            " [   0.    0.    0. -520. 1754. -560.    0.    0.    0.    0.    0.    0.\n",
            "     0.]\n",
            " [   0.    0.    0.    0. -560. 2062. -600.    0.    0.    0.    0.    0.\n",
            "     0.]\n",
            " [   0.    0.    0.    0.    0. -600. 2394. -640.    0.    0.    0.    0.\n",
            "     0.]\n",
            " [   0.    0.    0.    0.    0.    0. -640. 2750. -680.    0.    0.    0.\n",
            "     0.]\n",
            " [   0.    0.    0.    0.    0.    0.    0. -680. 3130. -720.    0.    0.\n",
            "     0.]\n",
            " [   0.    0.    0.    0.    0.    0.    0.    0. -720. 4734. -760.    0.\n",
            "     0.]\n",
            " [   0.    0.    0.    0.    0.    0.    0.    0.    0. -760. 1682.  400.\n",
            "     0.]\n",
            " [   0.    0.    0.    0.    0.    0.    0.    0.    0.    0.  400. 1330.\n",
            "   480.]\n",
            " [   0.    0.    0.    0.    0.    0.    0.    0.    0.    0.    0.  480.\n",
            "   200.]]\n"
          ]
        }
      ]
    }
  ]
}